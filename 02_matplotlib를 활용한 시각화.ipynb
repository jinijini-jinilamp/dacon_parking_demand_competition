{
 "cells": [
  {
   "cell_type": "code",
   "execution_count": 7,
   "metadata": {},
   "outputs": [
    {
     "data": {
      "text/plain": [
       "((2952, 15), (1022, 14), (150, 2), (16, 23))"
      ]
     },
     "execution_count": 7,
     "metadata": {},
     "output_type": "execute_result"
    }
   ],
   "source": [
    "import matplotlib.pyplot as plt\n",
    "import seaborn as sns\n",
    "from sklearn.linear_model import LinearRegression #y=a*총세대수 +b 의 회귀식을 만듬\n",
    "\n",
    "import pandas as pd\n",
    "\n",
    "train = pd.read_csv(\"../data/parking_demand_dataset/train.csv\")\n",
    "test = pd.read_csv(\"../data/parking_demand_dataset/test.csv\")\n",
    "sub = pd.read_csv(\"../data/parking_demand_dataset/sample_submission.csv\")\n",
    "age = pd.read_csv(\"../data/parking_demand_dataset/age_gender_info.csv\")\n",
    "\n",
    "train.shape, test.shape, sub.shape, age.shape"
   ]
  },
  {
   "cell_type": "code",
   "execution_count": 12,
   "metadata": {},
   "outputs": [],
   "source": []
  },
  {
   "cell_type": "code",
   "execution_count": 14,
   "metadata": {},
   "outputs": [
    {
     "data": {
      "text/plain": [
       "array([524.31256846, 524.31256846, 524.31256846, ..., 424.88994317,\n",
       "       424.88994317, 424.88994317])"
      ]
     },
     "execution_count": 14,
     "metadata": {},
     "output_type": "execute_result"
    }
   ],
   "source": []
  }
 ],
 "metadata": {
  "kernelspec": {
   "display_name": "Python 3",
   "language": "python",
   "name": "python3"
  },
  "language_info": {
   "codemirror_mode": {
    "name": "ipython",
    "version": 3
   },
   "file_extension": ".py",
   "mimetype": "text/x-python",
   "name": "python",
   "nbconvert_exporter": "python",
   "pygments_lexer": "ipython3",
   "version": "3.8.5"
  }
 },
 "nbformat": 4,
 "nbformat_minor": 4
}
