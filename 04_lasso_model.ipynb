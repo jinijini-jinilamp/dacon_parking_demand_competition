{
 "cells": [
  {
   "cell_type": "markdown",
   "metadata": {},
   "source": [
    "# 데이터 살펴보기"
   ]
  },
  {
   "cell_type": "code",
   "execution_count": 7,
   "metadata": {},
   "outputs": [
    {
     "name": "stdout",
     "output_type": "stream",
     "text": [
      "C:\\Users\\yanghj\\Desktop\\study\\dacon_parking_demand_competition\n"
     ]
    },
    {
     "data": {
      "text/plain": [
       "((2896, 15), (1008, 14), (150, 2), (16, 23))"
      ]
     },
     "execution_count": 7,
     "metadata": {},
     "output_type": "execute_result"
    }
   ],
   "source": [
    "import matplotlib.pyplot as plt\n",
    "import seaborn as sns\n",
    "import numpy as np\n",
    "import pandas as pd\n",
    "import os\n",
    "\n",
    "print(os.getcwd())\n",
    "train = pd.read_csv(\"data/train_df_errno.csv\")\n",
    "test = pd.read_csv(\"data/test_df.csv\")\n",
    "sub = pd.read_csv(\"data/sample_submission.csv\")\n",
    "age = pd.read_csv(\"data/age_gender_info.csv\")\n",
    "\n",
    "train.shape, test.shape, sub.shape, age.shape"
   ]
  },
  {
   "cell_type": "code",
   "execution_count": 9,
   "metadata": {},
   "outputs": [
    {
     "name": "stdout",
     "output_type": "stream",
     "text": [
      "<class 'pandas.core.frame.DataFrame'>\n",
      "RangeIndex: 2896 entries, 0 to 2895\n",
      "Data columns (total 15 columns):\n",
      " #   Column      Non-Null Count  Dtype  \n",
      "---  ------      --------------  -----  \n",
      " 0   단지코드        2896 non-null   object \n",
      " 1   총세대수        2896 non-null   int64  \n",
      " 2   임대건물구분      2896 non-null   object \n",
      " 3   지역          2896 non-null   object \n",
      " 4   공급유형        2896 non-null   object \n",
      " 5   전용면적        2896 non-null   float64\n",
      " 6   전용면적별세대수    2896 non-null   int64  \n",
      " 7   공가수         2896 non-null   float64\n",
      " 8   자격유형        2896 non-null   object \n",
      " 9   임대보증금       2327 non-null   object \n",
      " 10  임대료         2327 non-null   object \n",
      " 11  10분내지하철수    2685 non-null   float64\n",
      " 12  10분내버스정류장수  2892 non-null   float64\n",
      " 13  단지내주차면수     2896 non-null   float64\n",
      " 14  등록차량수       2896 non-null   float64\n",
      "dtypes: float64(6), int64(2), object(7)\n",
      "memory usage: 339.5+ KB\n"
     ]
    }
   ],
   "source": [
    "train.info()"
   ]
  },
  {
   "cell_type": "code",
   "execution_count": 10,
   "metadata": {},
   "outputs": [
    {
     "name": "stdout",
     "output_type": "stream",
     "text": [
      "<class 'pandas.core.frame.DataFrame'>\n",
      "RangeIndex: 1008 entries, 0 to 1007\n",
      "Data columns (total 14 columns):\n",
      " #   Column      Non-Null Count  Dtype  \n",
      "---  ------      --------------  -----  \n",
      " 0   단지코드        1008 non-null   object \n",
      " 1   총세대수        1008 non-null   int64  \n",
      " 2   임대건물구분      1008 non-null   object \n",
      " 3   지역          1008 non-null   object \n",
      " 4   공급유형        1008 non-null   object \n",
      " 5   전용면적        1008 non-null   float64\n",
      " 6   전용면적별세대수    1008 non-null   int64  \n",
      " 7   공가수         1008 non-null   float64\n",
      " 8   자격유형        1006 non-null   object \n",
      " 9   임대보증금       828 non-null    object \n",
      " 10  임대료         828 non-null    object \n",
      " 11  10분내지하철수    970 non-null    float64\n",
      " 12  10분내버스정류장수  1008 non-null   float64\n",
      " 13  단지내주차면수     1008 non-null   float64\n",
      "dtypes: float64(5), int64(2), object(7)\n",
      "memory usage: 110.4+ KB\n"
     ]
    }
   ],
   "source": [
    "test.info()"
   ]
  },
  {
   "cell_type": "markdown",
   "metadata": {},
   "source": [
    "# 결측치가 얼마나 될까?"
   ]
  },
  {
   "cell_type": "code",
   "execution_count": 11,
   "metadata": {},
   "outputs": [
    {
     "data": {
      "text/plain": [
       "단지코드            0\n",
       "총세대수            0\n",
       "임대건물구분          0\n",
       "지역              0\n",
       "공급유형            0\n",
       "전용면적            0\n",
       "전용면적별세대수        0\n",
       "공가수             0\n",
       "자격유형            0\n",
       "임대보증금         569\n",
       "임대료           569\n",
       "10분내지하철수      211\n",
       "10분내버스정류장수      4\n",
       "단지내주차면수         0\n",
       "등록차량수           0\n",
       "dtype: int64"
      ]
     },
     "execution_count": 11,
     "metadata": {},
     "output_type": "execute_result"
    }
   ],
   "source": [
    "### 결측치를 확인\n",
    "train.isna().sum()"
   ]
  },
  {
   "cell_type": "code",
   "execution_count": 12,
   "metadata": {},
   "outputs": [
    {
     "data": {
      "text/plain": [
       "단지코드            0\n",
       "총세대수            0\n",
       "임대건물구분          0\n",
       "지역              0\n",
       "공급유형            0\n",
       "전용면적            0\n",
       "전용면적별세대수        0\n",
       "공가수             0\n",
       "자격유형            2\n",
       "임대보증금         180\n",
       "임대료           180\n",
       "10분내지하철수       38\n",
       "10분내버스정류장수      0\n",
       "단지내주차면수         0\n",
       "dtype: int64"
      ]
     },
     "execution_count": 12,
     "metadata": {},
     "output_type": "execute_result"
    }
   ],
   "source": [
    "test.isna().sum()"
   ]
  },
  {
   "cell_type": "markdown",
   "metadata": {},
   "source": [
    "* 임대보증금, 임대료, 지하철역수, 버스정류장수(train only), 자격유형(test only)"
   ]
  },
  {
   "cell_type": "code",
   "execution_count": null,
   "metadata": {},
   "outputs": [],
   "source": [
    "train.head()"
   ]
  },
  {
   "cell_type": "code",
   "execution_count": null,
   "metadata": {},
   "outputs": [],
   "source": [
    "train.columns"
   ]
  },
  {
   "cell_type": "code",
   "execution_count": null,
   "metadata": {},
   "outputs": [],
   "source": [
    "test.head()"
   ]
  },
  {
   "cell_type": "code",
   "execution_count": 13,
   "metadata": {},
   "outputs": [
    {
     "data": {
      "text/plain": [
       "A    1756\n",
       "D     569\n",
       "H     155\n",
       "J     103\n",
       "C      95\n",
       "I      49\n",
       "E      37\n",
       "L      33\n",
       "K      33\n",
       "N      30\n",
       "B      21\n",
       "G       9\n",
       "F       3\n",
       "M       2\n",
       "O       1\n",
       "Name: 자격유형, dtype: int64"
      ]
     },
     "execution_count": 13,
     "metadata": {},
     "output_type": "execute_result"
    }
   ],
   "source": [
    "train['자격유형'].value_counts()"
   ]
  },
  {
   "cell_type": "code",
   "execution_count": 14,
   "metadata": {},
   "outputs": [],
   "source": [
    "mapping = { 'A':1, 'B':2, 'C':3, 'D':4, 'E':5, 'F':6, 'G':7, 'H':8, 'I':9, 'J':10, 'K':11, 'L':12, 'M':13, 'N':14, 'O':15  }\n",
    "train['자격유형']=train['자격유형'].map(mapping).astype(int)"
   ]
  },
  {
   "cell_type": "markdown",
   "metadata": {},
   "source": [
    "## Lasso 모델"
   ]
  },
  {
   "cell_type": "code",
   "execution_count": null,
   "metadata": {},
   "outputs": [],
   "source": [
    "#train dataset의 train과 test로 나누기\n",
    "from sklearn.model_selection import train_test_split\n",
    "from sklearn.linear_model import Lasso, Ridge\n",
    "\n",
    "sel = ['총세대수', '전용면적', '전용면적별세대수', '공가수',  '단지내주차면수', '자격유형']\n",
    "\n",
    "X = train[sel]\n",
    "y = train['등록차량수']\n",
    "\n",
    "\n",
    "X_train, X_test, y_train, y_test = train_test_split(X, y,\n",
    "                                                    random_state=0)\n",
    "X_train.shape, X_test.shape, y_train.shape, y_test.shape"
   ]
  },
  {
   "cell_type": "code",
   "execution_count": null,
   "metadata": {},
   "outputs": [],
   "source": [
    "from sklearn.metrics import mean_squared_error, mean_absolute_error, mean_squared_log_error\n",
    "\n",
    "#평가해보기\n",
    "'''\n",
    "MAE(mean absolute error) : 각각의 값에 절대값을 취해서 이를 전부 더한 후, 갯수로 나누어주기\n",
    "MSE(mean squared error) : (실제값 - 예측값 ) **2 전부 더해서 개수로나누어 준다\n",
    "RMSE(root mean squared error) : MSE에 루트 씌워준다\n",
    "'''\n",
    "alpha = [0.0001,0.001,0.005,0.01,0.05,0.1,0.5,1]\n",
    "for i in alpha:\n",
    "    model = Lasso(alpha=i).fit(X_train, y_train)  #학습\n",
    "    pred = model.predict(X_test) #예측\n",
    "    pred\n",
    "\n",
    "    MAE =  np.mean(abs(y_test - pred))\n",
    "    MSE = mean_squared_error(y_test, pred)\n",
    "    RMSE = mean_squared_error(y_test, pred) ** 0.5\n",
    "    print(\"alpha:\",i, \"MAE:\",MAE, \"MSE:\",MSE, \"RMSE:\",RMSE)\n",
    "\n"
   ]
  },
  {
   "cell_type": "code",
   "execution_count": null,
   "metadata": {},
   "outputs": [],
   "source": [
    "#결정계수 구하기\n",
    "print(\"학습(score):\", model.score(X_train,y_train)) #결정계수\n",
    "print(\"테스트(score):\", model.score(X_test,y_test))"
   ]
  },
  {
   "cell_type": "code",
   "execution_count": null,
   "metadata": {},
   "outputs": [],
   "source": [
    "#test에 예측한것을 붙여준다\n",
    "test['등록차량수'] = pred"
   ]
  },
  {
   "cell_type": "code",
   "execution_count": null,
   "metadata": {},
   "outputs": [],
   "source": []
  },
  {
   "cell_type": "code",
   "execution_count": null,
   "metadata": {},
   "outputs": [],
   "source": []
  },
  {
   "cell_type": "code",
   "execution_count": null,
   "metadata": {},
   "outputs": [],
   "source": []
  },
  {
   "cell_type": "code",
   "execution_count": null,
   "metadata": {},
   "outputs": [],
   "source": []
  }
 ],
 "metadata": {
  "kernelspec": {
   "display_name": "Python 3",
   "language": "python",
   "name": "python3"
  },
  "language_info": {
   "codemirror_mode": {
    "name": "ipython",
    "version": 3
   },
   "file_extension": ".py",
   "mimetype": "text/x-python",
   "name": "python",
   "nbconvert_exporter": "python",
   "pygments_lexer": "ipython3",
   "version": "3.8.5"
  }
 },
 "nbformat": 4,
 "nbformat_minor": 4
}
